{
 "cells": [
  {
   "cell_type": "markdown",
   "id": "ab683d9b",
   "metadata": {},
   "source": [
    "*\tWrite a python code to read video frames through webcam and detect motion of objects if any.\n",
    "*\tNote the timeline of movement and write to a file and display.\n",
    "*\tTake screenshot of grayscale, blurred and contour screen as well in your answers."
   ]
  },
  {
   "cell_type": "code",
   "execution_count": 1,
   "id": "65568a18",
   "metadata": {},
   "outputs": [],
   "source": [
    "import cv2, time, pandas\n",
    "from datetime import datetime\n",
    "import pandas as pd"
   ]
  },
  {
   "cell_type": "code",
   "execution_count": 2,
   "id": "68deb211",
   "metadata": {},
   "outputs": [],
   "source": [
    "static_back = None\n",
    "motion_list = [ None, None ]\n",
    "time = []\n",
    "df = pd.DataFrame(columns = [\"Start\", \"End\"])"
   ]
  },
  {
   "cell_type": "code",
   "execution_count": null,
   "id": "a8a2c22c",
   "metadata": {},
   "outputs": [],
   "source": [
    "video = cv2.VideoCapture(0)\n",
    "while True:\n",
    "    check, frame = video.read()\n",
    "    motion = 0\n",
    "    gray = cv2.cvtColor(frame, cv2.COLOR_BGR2GRAY)\n",
    "    gray = cv2.GaussianBlur(gray, (21, 21), 0)\n",
    "    if static_back is None:\n",
    "        static_back = gray\n",
    "        continue\n",
    "        \n",
    "    diff_frame = cv2.absdiff(static_back, gray)\n",
    "    thresh_frame = cv2.threshold(diff_frame, 30, 255, cv2.THRESH_BINARY)[1]\n",
    "    thresh_frame = cv2.dilate(thresh_frame, None, iterations = 2)\n",
    "    cnts,_ = cv2.findContours(thresh_frame.copy(),\n",
    "                       cv2.RETR_EXTERNAL, cv2.CHAIN_APPROX_SIMPLE)\n",
    "\n",
    "    for contour in cnts:\n",
    "        if cv2.contourArea(contour) < 10000:\n",
    "            continue\n",
    "        motion = 1\n",
    "        (x, y, w, h) = cv2.boundingRect(contour)\n",
    "        cv2.rectangle(frame, (x, y), (x + w, y + h), (0, 255, 0), 3)\n",
    " \n",
    "\n",
    "    motion_list.append(motion)\n",
    " \n",
    "    motion_list = motion_list[-2:]\n",
    "    if motion_list[-1] == 1 and motion_list[-2] == 0:\n",
    "        time.append(datetime.now())\n",
    "    if motion_list[-1] == 0 and motion_list[-2] == 1:\n",
    "        time.append(datetime.now())\n",
    "    cv2.imshow(\"Gray Frame\", gray)\n",
    "\n",
    "    cv2.imshow(\"Difference Frame\", diff_frame)\n",
    " \n",
    "\n",
    "    cv2.imshow(\"Threshold Frame\", thresh_frame)\n",
    " \n",
    "    cv2.imshow(\"Color Frame\", frame)\n",
    " \n",
    "    key = cv2.waitKey(1)\n",
    "\n",
    "    if key == ord('q'):\n",
    "\n",
    "        if motion == 1:\n",
    "            time.append(datetime.now())\n",
    "        break\n",
    " \n",
    "\n",
    "for i in range(0, len(time), 2):\n",
    "    df = df.append({\"Start\":time[i], \"End\":time[i + 1]}, ignore_index = True)\n",
    "\n",
    "\n",
    "df.to_csv(\"Time_of_movements.csv\")\n",
    "\n",
    "video.release()\n",
    "\n",
    "\n",
    "cv2.destroyAllWindows()"
   ]
  },
  {
   "cell_type": "code",
   "execution_count": null,
   "id": "b3d590c6",
   "metadata": {},
   "outputs": [],
   "source": []
  }
 ],
 "metadata": {
  "kernelspec": {
   "display_name": "Python 3",
   "language": "python",
   "name": "python3"
  },
  "language_info": {
   "codemirror_mode": {
    "name": "ipython",
    "version": 3
   },
   "file_extension": ".py",
   "mimetype": "text/x-python",
   "name": "python",
   "nbconvert_exporter": "python",
   "pygments_lexer": "ipython3",
   "version": "3.8.8"
  }
 },
 "nbformat": 4,
 "nbformat_minor": 5
}
